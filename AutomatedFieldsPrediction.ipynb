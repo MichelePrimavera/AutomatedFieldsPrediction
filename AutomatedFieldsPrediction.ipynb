{
  "nbformat": 4,
  "nbformat_minor": 0,
  "metadata": {
    "colab": {
      "provenance": [],
      "toc_visible": true,
      "authorship_tag": "ABX9TyNUxqfJvuVwfhzl7wJ9Nhd8",
      "include_colab_link": true
    },
    "kernelspec": {
      "name": "python3",
      "display_name": "Python 3"
    },
    "language_info": {
      "name": "python"
    },
    "widgets": {
      "application/vnd.jupyter.widget-state+json": {
        "595f4095e80d493eba1fd2c209c78b3b": {
          "model_module": "@jupyter-widgets/controls",
          "model_name": "HBoxModel",
          "model_module_version": "1.5.0",
          "state": {
            "_dom_classes": [],
            "_model_module": "@jupyter-widgets/controls",
            "_model_module_version": "1.5.0",
            "_model_name": "HBoxModel",
            "_view_count": null,
            "_view_module": "@jupyter-widgets/controls",
            "_view_module_version": "1.5.0",
            "_view_name": "HBoxView",
            "box_style": "",
            "children": [
              "IPY_MODEL_25fe086c4b844c0296b2686f3226288f",
              "IPY_MODEL_baf6d6207bf1420eb4e0b140670000b8",
              "IPY_MODEL_a0cdb2f094a14e058b152fe3e29dcea2"
            ],
            "layout": "IPY_MODEL_bb15e19cff9a45a2a2594a545e6b3e0c"
          }
        },
        "25fe086c4b844c0296b2686f3226288f": {
          "model_module": "@jupyter-widgets/controls",
          "model_name": "HTMLModel",
          "model_module_version": "1.5.0",
          "state": {
            "_dom_classes": [],
            "_model_module": "@jupyter-widgets/controls",
            "_model_module_version": "1.5.0",
            "_model_name": "HTMLModel",
            "_view_count": null,
            "_view_module": "@jupyter-widgets/controls",
            "_view_module_version": "1.5.0",
            "_view_name": "HTMLView",
            "description": "",
            "description_tooltip": null,
            "layout": "IPY_MODEL_b08bb86861104e2db2d67bbd205787c6",
            "placeholder": "​",
            "style": "IPY_MODEL_62c9ba484b3144c7a17f809684bbe2dc",
            "value": "Finding Elimination Order: : "
          }
        },
        "baf6d6207bf1420eb4e0b140670000b8": {
          "model_module": "@jupyter-widgets/controls",
          "model_name": "FloatProgressModel",
          "model_module_version": "1.5.0",
          "state": {
            "_dom_classes": [],
            "_model_module": "@jupyter-widgets/controls",
            "_model_module_version": "1.5.0",
            "_model_name": "FloatProgressModel",
            "_view_count": null,
            "_view_module": "@jupyter-widgets/controls",
            "_view_module_version": "1.5.0",
            "_view_name": "ProgressView",
            "bar_style": "info",
            "description": "",
            "description_tooltip": null,
            "layout": "IPY_MODEL_44a3df3326a9483cb9f94bf073f33687",
            "max": 1,
            "min": 0,
            "orientation": "horizontal",
            "style": "IPY_MODEL_32f2e4cca2514840bc95adc16d7d34df",
            "value": 0
          }
        },
        "a0cdb2f094a14e058b152fe3e29dcea2": {
          "model_module": "@jupyter-widgets/controls",
          "model_name": "HTMLModel",
          "model_module_version": "1.5.0",
          "state": {
            "_dom_classes": [],
            "_model_module": "@jupyter-widgets/controls",
            "_model_module_version": "1.5.0",
            "_model_name": "HTMLModel",
            "_view_count": null,
            "_view_module": "@jupyter-widgets/controls",
            "_view_module_version": "1.5.0",
            "_view_name": "HTMLView",
            "description": "",
            "description_tooltip": null,
            "layout": "IPY_MODEL_acc42644ab8f46e992411fe688774495",
            "placeholder": "​",
            "style": "IPY_MODEL_a4bc69f9044f4f3f8dcd4907185bcd5d",
            "value": " 0/0 [00:00&lt;?, ?it/s]"
          }
        },
        "bb15e19cff9a45a2a2594a545e6b3e0c": {
          "model_module": "@jupyter-widgets/base",
          "model_name": "LayoutModel",
          "model_module_version": "1.2.0",
          "state": {
            "_model_module": "@jupyter-widgets/base",
            "_model_module_version": "1.2.0",
            "_model_name": "LayoutModel",
            "_view_count": null,
            "_view_module": "@jupyter-widgets/base",
            "_view_module_version": "1.2.0",
            "_view_name": "LayoutView",
            "align_content": null,
            "align_items": null,
            "align_self": null,
            "border": null,
            "bottom": null,
            "display": null,
            "flex": null,
            "flex_flow": null,
            "grid_area": null,
            "grid_auto_columns": null,
            "grid_auto_flow": null,
            "grid_auto_rows": null,
            "grid_column": null,
            "grid_gap": null,
            "grid_row": null,
            "grid_template_areas": null,
            "grid_template_columns": null,
            "grid_template_rows": null,
            "height": null,
            "justify_content": null,
            "justify_items": null,
            "left": null,
            "margin": null,
            "max_height": null,
            "max_width": null,
            "min_height": null,
            "min_width": null,
            "object_fit": null,
            "object_position": null,
            "order": null,
            "overflow": null,
            "overflow_x": null,
            "overflow_y": null,
            "padding": null,
            "right": null,
            "top": null,
            "visibility": null,
            "width": null
          }
        },
        "b08bb86861104e2db2d67bbd205787c6": {
          "model_module": "@jupyter-widgets/base",
          "model_name": "LayoutModel",
          "model_module_version": "1.2.0",
          "state": {
            "_model_module": "@jupyter-widgets/base",
            "_model_module_version": "1.2.0",
            "_model_name": "LayoutModel",
            "_view_count": null,
            "_view_module": "@jupyter-widgets/base",
            "_view_module_version": "1.2.0",
            "_view_name": "LayoutView",
            "align_content": null,
            "align_items": null,
            "align_self": null,
            "border": null,
            "bottom": null,
            "display": null,
            "flex": null,
            "flex_flow": null,
            "grid_area": null,
            "grid_auto_columns": null,
            "grid_auto_flow": null,
            "grid_auto_rows": null,
            "grid_column": null,
            "grid_gap": null,
            "grid_row": null,
            "grid_template_areas": null,
            "grid_template_columns": null,
            "grid_template_rows": null,
            "height": null,
            "justify_content": null,
            "justify_items": null,
            "left": null,
            "margin": null,
            "max_height": null,
            "max_width": null,
            "min_height": null,
            "min_width": null,
            "object_fit": null,
            "object_position": null,
            "order": null,
            "overflow": null,
            "overflow_x": null,
            "overflow_y": null,
            "padding": null,
            "right": null,
            "top": null,
            "visibility": null,
            "width": null
          }
        },
        "62c9ba484b3144c7a17f809684bbe2dc": {
          "model_module": "@jupyter-widgets/controls",
          "model_name": "DescriptionStyleModel",
          "model_module_version": "1.5.0",
          "state": {
            "_model_module": "@jupyter-widgets/controls",
            "_model_module_version": "1.5.0",
            "_model_name": "DescriptionStyleModel",
            "_view_count": null,
            "_view_module": "@jupyter-widgets/base",
            "_view_module_version": "1.2.0",
            "_view_name": "StyleView",
            "description_width": ""
          }
        },
        "44a3df3326a9483cb9f94bf073f33687": {
          "model_module": "@jupyter-widgets/base",
          "model_name": "LayoutModel",
          "model_module_version": "1.2.0",
          "state": {
            "_model_module": "@jupyter-widgets/base",
            "_model_module_version": "1.2.0",
            "_model_name": "LayoutModel",
            "_view_count": null,
            "_view_module": "@jupyter-widgets/base",
            "_view_module_version": "1.2.0",
            "_view_name": "LayoutView",
            "align_content": null,
            "align_items": null,
            "align_self": null,
            "border": null,
            "bottom": null,
            "display": null,
            "flex": null,
            "flex_flow": null,
            "grid_area": null,
            "grid_auto_columns": null,
            "grid_auto_flow": null,
            "grid_auto_rows": null,
            "grid_column": null,
            "grid_gap": null,
            "grid_row": null,
            "grid_template_areas": null,
            "grid_template_columns": null,
            "grid_template_rows": null,
            "height": null,
            "justify_content": null,
            "justify_items": null,
            "left": null,
            "margin": null,
            "max_height": null,
            "max_width": null,
            "min_height": null,
            "min_width": null,
            "object_fit": null,
            "object_position": null,
            "order": null,
            "overflow": null,
            "overflow_x": null,
            "overflow_y": null,
            "padding": null,
            "right": null,
            "top": null,
            "visibility": null,
            "width": "20px"
          }
        },
        "32f2e4cca2514840bc95adc16d7d34df": {
          "model_module": "@jupyter-widgets/controls",
          "model_name": "ProgressStyleModel",
          "model_module_version": "1.5.0",
          "state": {
            "_model_module": "@jupyter-widgets/controls",
            "_model_module_version": "1.5.0",
            "_model_name": "ProgressStyleModel",
            "_view_count": null,
            "_view_module": "@jupyter-widgets/base",
            "_view_module_version": "1.2.0",
            "_view_name": "StyleView",
            "bar_color": null,
            "description_width": ""
          }
        },
        "acc42644ab8f46e992411fe688774495": {
          "model_module": "@jupyter-widgets/base",
          "model_name": "LayoutModel",
          "model_module_version": "1.2.0",
          "state": {
            "_model_module": "@jupyter-widgets/base",
            "_model_module_version": "1.2.0",
            "_model_name": "LayoutModel",
            "_view_count": null,
            "_view_module": "@jupyter-widgets/base",
            "_view_module_version": "1.2.0",
            "_view_name": "LayoutView",
            "align_content": null,
            "align_items": null,
            "align_self": null,
            "border": null,
            "bottom": null,
            "display": null,
            "flex": null,
            "flex_flow": null,
            "grid_area": null,
            "grid_auto_columns": null,
            "grid_auto_flow": null,
            "grid_auto_rows": null,
            "grid_column": null,
            "grid_gap": null,
            "grid_row": null,
            "grid_template_areas": null,
            "grid_template_columns": null,
            "grid_template_rows": null,
            "height": null,
            "justify_content": null,
            "justify_items": null,
            "left": null,
            "margin": null,
            "max_height": null,
            "max_width": null,
            "min_height": null,
            "min_width": null,
            "object_fit": null,
            "object_position": null,
            "order": null,
            "overflow": null,
            "overflow_x": null,
            "overflow_y": null,
            "padding": null,
            "right": null,
            "top": null,
            "visibility": null,
            "width": null
          }
        },
        "a4bc69f9044f4f3f8dcd4907185bcd5d": {
          "model_module": "@jupyter-widgets/controls",
          "model_name": "DescriptionStyleModel",
          "model_module_version": "1.5.0",
          "state": {
            "_model_module": "@jupyter-widgets/controls",
            "_model_module_version": "1.5.0",
            "_model_name": "DescriptionStyleModel",
            "_view_count": null,
            "_view_module": "@jupyter-widgets/base",
            "_view_module_version": "1.2.0",
            "_view_name": "StyleView",
            "description_width": ""
          }
        },
        "82930ac156bf4bb09c8d1096c47ee19c": {
          "model_module": "@jupyter-widgets/controls",
          "model_name": "HBoxModel",
          "model_module_version": "1.5.0",
          "state": {
            "_dom_classes": [],
            "_model_module": "@jupyter-widgets/controls",
            "_model_module_version": "1.5.0",
            "_model_name": "HBoxModel",
            "_view_count": null,
            "_view_module": "@jupyter-widgets/controls",
            "_view_module_version": "1.5.0",
            "_view_name": "HBoxView",
            "box_style": "",
            "children": [
              "IPY_MODEL_9756c7d26499425881509367b8b72e79",
              "IPY_MODEL_31a4e2318d4446cc8acc53d5d7d18bd1",
              "IPY_MODEL_f38ea871279542f0ae5031df92eaa4da"
            ],
            "layout": "IPY_MODEL_d5e4fd8e5c164aef9c4ca82ca0ad6861"
          }
        },
        "9756c7d26499425881509367b8b72e79": {
          "model_module": "@jupyter-widgets/controls",
          "model_name": "HTMLModel",
          "model_module_version": "1.5.0",
          "state": {
            "_dom_classes": [],
            "_model_module": "@jupyter-widgets/controls",
            "_model_module_version": "1.5.0",
            "_model_name": "HTMLModel",
            "_view_count": null,
            "_view_module": "@jupyter-widgets/controls",
            "_view_module_version": "1.5.0",
            "_view_name": "HTMLView",
            "description": "",
            "description_tooltip": null,
            "layout": "IPY_MODEL_2ef756216bc64bf2b2c87f82abe0acdf",
            "placeholder": "​",
            "style": "IPY_MODEL_17f4badf24094cc7a66ae25347982f30",
            "value": ""
          }
        },
        "31a4e2318d4446cc8acc53d5d7d18bd1": {
          "model_module": "@jupyter-widgets/controls",
          "model_name": "FloatProgressModel",
          "model_module_version": "1.5.0",
          "state": {
            "_dom_classes": [],
            "_model_module": "@jupyter-widgets/controls",
            "_model_module_version": "1.5.0",
            "_model_name": "FloatProgressModel",
            "_view_count": null,
            "_view_module": "@jupyter-widgets/controls",
            "_view_module_version": "1.5.0",
            "_view_name": "ProgressView",
            "bar_style": "success",
            "description": "",
            "description_tooltip": null,
            "layout": "IPY_MODEL_d24c297b97c14653a0a2439964c1fe77",
            "max": 1,
            "min": 0,
            "orientation": "horizontal",
            "style": "IPY_MODEL_10d08a496ece47489e1db217b2224aa9",
            "value": 0
          }
        },
        "f38ea871279542f0ae5031df92eaa4da": {
          "model_module": "@jupyter-widgets/controls",
          "model_name": "HTMLModel",
          "model_module_version": "1.5.0",
          "state": {
            "_dom_classes": [],
            "_model_module": "@jupyter-widgets/controls",
            "_model_module_version": "1.5.0",
            "_model_name": "HTMLModel",
            "_view_count": null,
            "_view_module": "@jupyter-widgets/controls",
            "_view_module_version": "1.5.0",
            "_view_name": "HTMLView",
            "description": "",
            "description_tooltip": null,
            "layout": "IPY_MODEL_f0778a4b74e943f6880863404b692ce9",
            "placeholder": "​",
            "style": "IPY_MODEL_bfe9f0305e054e24bd36678df55afa31",
            "value": " 0/0 [00:00&lt;?, ?it/s]"
          }
        },
        "d5e4fd8e5c164aef9c4ca82ca0ad6861": {
          "model_module": "@jupyter-widgets/base",
          "model_name": "LayoutModel",
          "model_module_version": "1.2.0",
          "state": {
            "_model_module": "@jupyter-widgets/base",
            "_model_module_version": "1.2.0",
            "_model_name": "LayoutModel",
            "_view_count": null,
            "_view_module": "@jupyter-widgets/base",
            "_view_module_version": "1.2.0",
            "_view_name": "LayoutView",
            "align_content": null,
            "align_items": null,
            "align_self": null,
            "border": null,
            "bottom": null,
            "display": null,
            "flex": null,
            "flex_flow": null,
            "grid_area": null,
            "grid_auto_columns": null,
            "grid_auto_flow": null,
            "grid_auto_rows": null,
            "grid_column": null,
            "grid_gap": null,
            "grid_row": null,
            "grid_template_areas": null,
            "grid_template_columns": null,
            "grid_template_rows": null,
            "height": null,
            "justify_content": null,
            "justify_items": null,
            "left": null,
            "margin": null,
            "max_height": null,
            "max_width": null,
            "min_height": null,
            "min_width": null,
            "object_fit": null,
            "object_position": null,
            "order": null,
            "overflow": null,
            "overflow_x": null,
            "overflow_y": null,
            "padding": null,
            "right": null,
            "top": null,
            "visibility": null,
            "width": null
          }
        },
        "2ef756216bc64bf2b2c87f82abe0acdf": {
          "model_module": "@jupyter-widgets/base",
          "model_name": "LayoutModel",
          "model_module_version": "1.2.0",
          "state": {
            "_model_module": "@jupyter-widgets/base",
            "_model_module_version": "1.2.0",
            "_model_name": "LayoutModel",
            "_view_count": null,
            "_view_module": "@jupyter-widgets/base",
            "_view_module_version": "1.2.0",
            "_view_name": "LayoutView",
            "align_content": null,
            "align_items": null,
            "align_self": null,
            "border": null,
            "bottom": null,
            "display": null,
            "flex": null,
            "flex_flow": null,
            "grid_area": null,
            "grid_auto_columns": null,
            "grid_auto_flow": null,
            "grid_auto_rows": null,
            "grid_column": null,
            "grid_gap": null,
            "grid_row": null,
            "grid_template_areas": null,
            "grid_template_columns": null,
            "grid_template_rows": null,
            "height": null,
            "justify_content": null,
            "justify_items": null,
            "left": null,
            "margin": null,
            "max_height": null,
            "max_width": null,
            "min_height": null,
            "min_width": null,
            "object_fit": null,
            "object_position": null,
            "order": null,
            "overflow": null,
            "overflow_x": null,
            "overflow_y": null,
            "padding": null,
            "right": null,
            "top": null,
            "visibility": null,
            "width": null
          }
        },
        "17f4badf24094cc7a66ae25347982f30": {
          "model_module": "@jupyter-widgets/controls",
          "model_name": "DescriptionStyleModel",
          "model_module_version": "1.5.0",
          "state": {
            "_model_module": "@jupyter-widgets/controls",
            "_model_module_version": "1.5.0",
            "_model_name": "DescriptionStyleModel",
            "_view_count": null,
            "_view_module": "@jupyter-widgets/base",
            "_view_module_version": "1.2.0",
            "_view_name": "StyleView",
            "description_width": ""
          }
        },
        "d24c297b97c14653a0a2439964c1fe77": {
          "model_module": "@jupyter-widgets/base",
          "model_name": "LayoutModel",
          "model_module_version": "1.2.0",
          "state": {
            "_model_module": "@jupyter-widgets/base",
            "_model_module_version": "1.2.0",
            "_model_name": "LayoutModel",
            "_view_count": null,
            "_view_module": "@jupyter-widgets/base",
            "_view_module_version": "1.2.0",
            "_view_name": "LayoutView",
            "align_content": null,
            "align_items": null,
            "align_self": null,
            "border": null,
            "bottom": null,
            "display": null,
            "flex": null,
            "flex_flow": null,
            "grid_area": null,
            "grid_auto_columns": null,
            "grid_auto_flow": null,
            "grid_auto_rows": null,
            "grid_column": null,
            "grid_gap": null,
            "grid_row": null,
            "grid_template_areas": null,
            "grid_template_columns": null,
            "grid_template_rows": null,
            "height": null,
            "justify_content": null,
            "justify_items": null,
            "left": null,
            "margin": null,
            "max_height": null,
            "max_width": null,
            "min_height": null,
            "min_width": null,
            "object_fit": null,
            "object_position": null,
            "order": null,
            "overflow": null,
            "overflow_x": null,
            "overflow_y": null,
            "padding": null,
            "right": null,
            "top": null,
            "visibility": null,
            "width": "20px"
          }
        },
        "10d08a496ece47489e1db217b2224aa9": {
          "model_module": "@jupyter-widgets/controls",
          "model_name": "ProgressStyleModel",
          "model_module_version": "1.5.0",
          "state": {
            "_model_module": "@jupyter-widgets/controls",
            "_model_module_version": "1.5.0",
            "_model_name": "ProgressStyleModel",
            "_view_count": null,
            "_view_module": "@jupyter-widgets/base",
            "_view_module_version": "1.2.0",
            "_view_name": "StyleView",
            "bar_color": null,
            "description_width": ""
          }
        },
        "f0778a4b74e943f6880863404b692ce9": {
          "model_module": "@jupyter-widgets/base",
          "model_name": "LayoutModel",
          "model_module_version": "1.2.0",
          "state": {
            "_model_module": "@jupyter-widgets/base",
            "_model_module_version": "1.2.0",
            "_model_name": "LayoutModel",
            "_view_count": null,
            "_view_module": "@jupyter-widgets/base",
            "_view_module_version": "1.2.0",
            "_view_name": "LayoutView",
            "align_content": null,
            "align_items": null,
            "align_self": null,
            "border": null,
            "bottom": null,
            "display": null,
            "flex": null,
            "flex_flow": null,
            "grid_area": null,
            "grid_auto_columns": null,
            "grid_auto_flow": null,
            "grid_auto_rows": null,
            "grid_column": null,
            "grid_gap": null,
            "grid_row": null,
            "grid_template_areas": null,
            "grid_template_columns": null,
            "grid_template_rows": null,
            "height": null,
            "justify_content": null,
            "justify_items": null,
            "left": null,
            "margin": null,
            "max_height": null,
            "max_width": null,
            "min_height": null,
            "min_width": null,
            "object_fit": null,
            "object_position": null,
            "order": null,
            "overflow": null,
            "overflow_x": null,
            "overflow_y": null,
            "padding": null,
            "right": null,
            "top": null,
            "visibility": null,
            "width": null
          }
        },
        "bfe9f0305e054e24bd36678df55afa31": {
          "model_module": "@jupyter-widgets/controls",
          "model_name": "DescriptionStyleModel",
          "model_module_version": "1.5.0",
          "state": {
            "_model_module": "@jupyter-widgets/controls",
            "_model_module_version": "1.5.0",
            "_model_name": "DescriptionStyleModel",
            "_view_count": null,
            "_view_module": "@jupyter-widgets/base",
            "_view_module_version": "1.2.0",
            "_view_name": "StyleView",
            "description_width": ""
          }
        },
        "57c4b1e1485d4e73a4f4e6b8c2a412b3": {
          "model_module": "@jupyter-widgets/controls",
          "model_name": "HBoxModel",
          "model_module_version": "1.5.0",
          "state": {
            "_dom_classes": [],
            "_model_module": "@jupyter-widgets/controls",
            "_model_module_version": "1.5.0",
            "_model_name": "HBoxModel",
            "_view_count": null,
            "_view_module": "@jupyter-widgets/controls",
            "_view_module_version": "1.5.0",
            "_view_name": "HBoxView",
            "box_style": "",
            "children": [
              "IPY_MODEL_64fb4d542fbf4368842ebd1a06d19cd6",
              "IPY_MODEL_913faf15fcfc4145a0b1562023104aa0",
              "IPY_MODEL_18928b86661c43dca20ff18b6957493f"
            ],
            "layout": "IPY_MODEL_1c35e727cb3142a087703940b4a11c31"
          }
        },
        "64fb4d542fbf4368842ebd1a06d19cd6": {
          "model_module": "@jupyter-widgets/controls",
          "model_name": "HTMLModel",
          "model_module_version": "1.5.0",
          "state": {
            "_dom_classes": [],
            "_model_module": "@jupyter-widgets/controls",
            "_model_module_version": "1.5.0",
            "_model_name": "HTMLModel",
            "_view_count": null,
            "_view_module": "@jupyter-widgets/controls",
            "_view_module_version": "1.5.0",
            "_view_name": "HTMLView",
            "description": "",
            "description_tooltip": null,
            "layout": "IPY_MODEL_0ace5ca5f6574e32af87cfc51734ce59",
            "placeholder": "​",
            "style": "IPY_MODEL_620dc983b76b404e8ab3e1a7d9d56f9c",
            "value": "Finding Elimination Order: : "
          }
        },
        "913faf15fcfc4145a0b1562023104aa0": {
          "model_module": "@jupyter-widgets/controls",
          "model_name": "FloatProgressModel",
          "model_module_version": "1.5.0",
          "state": {
            "_dom_classes": [],
            "_model_module": "@jupyter-widgets/controls",
            "_model_module_version": "1.5.0",
            "_model_name": "FloatProgressModel",
            "_view_count": null,
            "_view_module": "@jupyter-widgets/controls",
            "_view_module_version": "1.5.0",
            "_view_name": "ProgressView",
            "bar_style": "info",
            "description": "",
            "description_tooltip": null,
            "layout": "IPY_MODEL_52b6aaf1a27e487a831d672f6a0c20dd",
            "max": 1,
            "min": 0,
            "orientation": "horizontal",
            "style": "IPY_MODEL_3f0b03eaad1d452e987dfb2e5fd8c6ac",
            "value": 0
          }
        },
        "18928b86661c43dca20ff18b6957493f": {
          "model_module": "@jupyter-widgets/controls",
          "model_name": "HTMLModel",
          "model_module_version": "1.5.0",
          "state": {
            "_dom_classes": [],
            "_model_module": "@jupyter-widgets/controls",
            "_model_module_version": "1.5.0",
            "_model_name": "HTMLModel",
            "_view_count": null,
            "_view_module": "@jupyter-widgets/controls",
            "_view_module_version": "1.5.0",
            "_view_name": "HTMLView",
            "description": "",
            "description_tooltip": null,
            "layout": "IPY_MODEL_bd2db36725de4c0a9b2c2a03a0e65d3d",
            "placeholder": "​",
            "style": "IPY_MODEL_b4059fd3d5bd4472802bba5a89972456",
            "value": " 0/0 [00:00&lt;?, ?it/s]"
          }
        },
        "1c35e727cb3142a087703940b4a11c31": {
          "model_module": "@jupyter-widgets/base",
          "model_name": "LayoutModel",
          "model_module_version": "1.2.0",
          "state": {
            "_model_module": "@jupyter-widgets/base",
            "_model_module_version": "1.2.0",
            "_model_name": "LayoutModel",
            "_view_count": null,
            "_view_module": "@jupyter-widgets/base",
            "_view_module_version": "1.2.0",
            "_view_name": "LayoutView",
            "align_content": null,
            "align_items": null,
            "align_self": null,
            "border": null,
            "bottom": null,
            "display": null,
            "flex": null,
            "flex_flow": null,
            "grid_area": null,
            "grid_auto_columns": null,
            "grid_auto_flow": null,
            "grid_auto_rows": null,
            "grid_column": null,
            "grid_gap": null,
            "grid_row": null,
            "grid_template_areas": null,
            "grid_template_columns": null,
            "grid_template_rows": null,
            "height": null,
            "justify_content": null,
            "justify_items": null,
            "left": null,
            "margin": null,
            "max_height": null,
            "max_width": null,
            "min_height": null,
            "min_width": null,
            "object_fit": null,
            "object_position": null,
            "order": null,
            "overflow": null,
            "overflow_x": null,
            "overflow_y": null,
            "padding": null,
            "right": null,
            "top": null,
            "visibility": null,
            "width": null
          }
        },
        "0ace5ca5f6574e32af87cfc51734ce59": {
          "model_module": "@jupyter-widgets/base",
          "model_name": "LayoutModel",
          "model_module_version": "1.2.0",
          "state": {
            "_model_module": "@jupyter-widgets/base",
            "_model_module_version": "1.2.0",
            "_model_name": "LayoutModel",
            "_view_count": null,
            "_view_module": "@jupyter-widgets/base",
            "_view_module_version": "1.2.0",
            "_view_name": "LayoutView",
            "align_content": null,
            "align_items": null,
            "align_self": null,
            "border": null,
            "bottom": null,
            "display": null,
            "flex": null,
            "flex_flow": null,
            "grid_area": null,
            "grid_auto_columns": null,
            "grid_auto_flow": null,
            "grid_auto_rows": null,
            "grid_column": null,
            "grid_gap": null,
            "grid_row": null,
            "grid_template_areas": null,
            "grid_template_columns": null,
            "grid_template_rows": null,
            "height": null,
            "justify_content": null,
            "justify_items": null,
            "left": null,
            "margin": null,
            "max_height": null,
            "max_width": null,
            "min_height": null,
            "min_width": null,
            "object_fit": null,
            "object_position": null,
            "order": null,
            "overflow": null,
            "overflow_x": null,
            "overflow_y": null,
            "padding": null,
            "right": null,
            "top": null,
            "visibility": null,
            "width": null
          }
        },
        "620dc983b76b404e8ab3e1a7d9d56f9c": {
          "model_module": "@jupyter-widgets/controls",
          "model_name": "DescriptionStyleModel",
          "model_module_version": "1.5.0",
          "state": {
            "_model_module": "@jupyter-widgets/controls",
            "_model_module_version": "1.5.0",
            "_model_name": "DescriptionStyleModel",
            "_view_count": null,
            "_view_module": "@jupyter-widgets/base",
            "_view_module_version": "1.2.0",
            "_view_name": "StyleView",
            "description_width": ""
          }
        },
        "52b6aaf1a27e487a831d672f6a0c20dd": {
          "model_module": "@jupyter-widgets/base",
          "model_name": "LayoutModel",
          "model_module_version": "1.2.0",
          "state": {
            "_model_module": "@jupyter-widgets/base",
            "_model_module_version": "1.2.0",
            "_model_name": "LayoutModel",
            "_view_count": null,
            "_view_module": "@jupyter-widgets/base",
            "_view_module_version": "1.2.0",
            "_view_name": "LayoutView",
            "align_content": null,
            "align_items": null,
            "align_self": null,
            "border": null,
            "bottom": null,
            "display": null,
            "flex": null,
            "flex_flow": null,
            "grid_area": null,
            "grid_auto_columns": null,
            "grid_auto_flow": null,
            "grid_auto_rows": null,
            "grid_column": null,
            "grid_gap": null,
            "grid_row": null,
            "grid_template_areas": null,
            "grid_template_columns": null,
            "grid_template_rows": null,
            "height": null,
            "justify_content": null,
            "justify_items": null,
            "left": null,
            "margin": null,
            "max_height": null,
            "max_width": null,
            "min_height": null,
            "min_width": null,
            "object_fit": null,
            "object_position": null,
            "order": null,
            "overflow": null,
            "overflow_x": null,
            "overflow_y": null,
            "padding": null,
            "right": null,
            "top": null,
            "visibility": null,
            "width": "20px"
          }
        },
        "3f0b03eaad1d452e987dfb2e5fd8c6ac": {
          "model_module": "@jupyter-widgets/controls",
          "model_name": "ProgressStyleModel",
          "model_module_version": "1.5.0",
          "state": {
            "_model_module": "@jupyter-widgets/controls",
            "_model_module_version": "1.5.0",
            "_model_name": "ProgressStyleModel",
            "_view_count": null,
            "_view_module": "@jupyter-widgets/base",
            "_view_module_version": "1.2.0",
            "_view_name": "StyleView",
            "bar_color": null,
            "description_width": ""
          }
        },
        "bd2db36725de4c0a9b2c2a03a0e65d3d": {
          "model_module": "@jupyter-widgets/base",
          "model_name": "LayoutModel",
          "model_module_version": "1.2.0",
          "state": {
            "_model_module": "@jupyter-widgets/base",
            "_model_module_version": "1.2.0",
            "_model_name": "LayoutModel",
            "_view_count": null,
            "_view_module": "@jupyter-widgets/base",
            "_view_module_version": "1.2.0",
            "_view_name": "LayoutView",
            "align_content": null,
            "align_items": null,
            "align_self": null,
            "border": null,
            "bottom": null,
            "display": null,
            "flex": null,
            "flex_flow": null,
            "grid_area": null,
            "grid_auto_columns": null,
            "grid_auto_flow": null,
            "grid_auto_rows": null,
            "grid_column": null,
            "grid_gap": null,
            "grid_row": null,
            "grid_template_areas": null,
            "grid_template_columns": null,
            "grid_template_rows": null,
            "height": null,
            "justify_content": null,
            "justify_items": null,
            "left": null,
            "margin": null,
            "max_height": null,
            "max_width": null,
            "min_height": null,
            "min_width": null,
            "object_fit": null,
            "object_position": null,
            "order": null,
            "overflow": null,
            "overflow_x": null,
            "overflow_y": null,
            "padding": null,
            "right": null,
            "top": null,
            "visibility": null,
            "width": null
          }
        },
        "b4059fd3d5bd4472802bba5a89972456": {
          "model_module": "@jupyter-widgets/controls",
          "model_name": "DescriptionStyleModel",
          "model_module_version": "1.5.0",
          "state": {
            "_model_module": "@jupyter-widgets/controls",
            "_model_module_version": "1.5.0",
            "_model_name": "DescriptionStyleModel",
            "_view_count": null,
            "_view_module": "@jupyter-widgets/base",
            "_view_module_version": "1.2.0",
            "_view_name": "StyleView",
            "description_width": ""
          }
        },
        "4792c7ed168c470a8ebb8e3783e40199": {
          "model_module": "@jupyter-widgets/controls",
          "model_name": "HBoxModel",
          "model_module_version": "1.5.0",
          "state": {
            "_dom_classes": [],
            "_model_module": "@jupyter-widgets/controls",
            "_model_module_version": "1.5.0",
            "_model_name": "HBoxModel",
            "_view_count": null,
            "_view_module": "@jupyter-widgets/controls",
            "_view_module_version": "1.5.0",
            "_view_name": "HBoxView",
            "box_style": "",
            "children": [
              "IPY_MODEL_b2ffc3f3573247cb8135935f5ecfacb4",
              "IPY_MODEL_31678fd669594ba1a139524f9d3126a0",
              "IPY_MODEL_d8cbe412ceff4790a6932df907ad68c7"
            ],
            "layout": "IPY_MODEL_2916b1d0eaf542d2b3224ff16c24d47b"
          }
        },
        "b2ffc3f3573247cb8135935f5ecfacb4": {
          "model_module": "@jupyter-widgets/controls",
          "model_name": "HTMLModel",
          "model_module_version": "1.5.0",
          "state": {
            "_dom_classes": [],
            "_model_module": "@jupyter-widgets/controls",
            "_model_module_version": "1.5.0",
            "_model_name": "HTMLModel",
            "_view_count": null,
            "_view_module": "@jupyter-widgets/controls",
            "_view_module_version": "1.5.0",
            "_view_name": "HTMLView",
            "description": "",
            "description_tooltip": null,
            "layout": "IPY_MODEL_e19ad848350f45b68df73978d21b5702",
            "placeholder": "​",
            "style": "IPY_MODEL_b0d0c7ab2f7c401582c7cf593a661cdd",
            "value": ""
          }
        },
        "31678fd669594ba1a139524f9d3126a0": {
          "model_module": "@jupyter-widgets/controls",
          "model_name": "FloatProgressModel",
          "model_module_version": "1.5.0",
          "state": {
            "_dom_classes": [],
            "_model_module": "@jupyter-widgets/controls",
            "_model_module_version": "1.5.0",
            "_model_name": "FloatProgressModel",
            "_view_count": null,
            "_view_module": "@jupyter-widgets/controls",
            "_view_module_version": "1.5.0",
            "_view_name": "ProgressView",
            "bar_style": "success",
            "description": "",
            "description_tooltip": null,
            "layout": "IPY_MODEL_ad3f1618341f424088d36be4127ba561",
            "max": 1,
            "min": 0,
            "orientation": "horizontal",
            "style": "IPY_MODEL_d8fa1420d3ec4016a29129adfd8488ba",
            "value": 0
          }
        },
        "d8cbe412ceff4790a6932df907ad68c7": {
          "model_module": "@jupyter-widgets/controls",
          "model_name": "HTMLModel",
          "model_module_version": "1.5.0",
          "state": {
            "_dom_classes": [],
            "_model_module": "@jupyter-widgets/controls",
            "_model_module_version": "1.5.0",
            "_model_name": "HTMLModel",
            "_view_count": null,
            "_view_module": "@jupyter-widgets/controls",
            "_view_module_version": "1.5.0",
            "_view_name": "HTMLView",
            "description": "",
            "description_tooltip": null,
            "layout": "IPY_MODEL_ac1876e074a648bea38e889e68ab28a0",
            "placeholder": "​",
            "style": "IPY_MODEL_240dcaf955684e97b57fcd288521cdf1",
            "value": " 0/0 [00:00&lt;?, ?it/s]"
          }
        },
        "2916b1d0eaf542d2b3224ff16c24d47b": {
          "model_module": "@jupyter-widgets/base",
          "model_name": "LayoutModel",
          "model_module_version": "1.2.0",
          "state": {
            "_model_module": "@jupyter-widgets/base",
            "_model_module_version": "1.2.0",
            "_model_name": "LayoutModel",
            "_view_count": null,
            "_view_module": "@jupyter-widgets/base",
            "_view_module_version": "1.2.0",
            "_view_name": "LayoutView",
            "align_content": null,
            "align_items": null,
            "align_self": null,
            "border": null,
            "bottom": null,
            "display": null,
            "flex": null,
            "flex_flow": null,
            "grid_area": null,
            "grid_auto_columns": null,
            "grid_auto_flow": null,
            "grid_auto_rows": null,
            "grid_column": null,
            "grid_gap": null,
            "grid_row": null,
            "grid_template_areas": null,
            "grid_template_columns": null,
            "grid_template_rows": null,
            "height": null,
            "justify_content": null,
            "justify_items": null,
            "left": null,
            "margin": null,
            "max_height": null,
            "max_width": null,
            "min_height": null,
            "min_width": null,
            "object_fit": null,
            "object_position": null,
            "order": null,
            "overflow": null,
            "overflow_x": null,
            "overflow_y": null,
            "padding": null,
            "right": null,
            "top": null,
            "visibility": null,
            "width": null
          }
        },
        "e19ad848350f45b68df73978d21b5702": {
          "model_module": "@jupyter-widgets/base",
          "model_name": "LayoutModel",
          "model_module_version": "1.2.0",
          "state": {
            "_model_module": "@jupyter-widgets/base",
            "_model_module_version": "1.2.0",
            "_model_name": "LayoutModel",
            "_view_count": null,
            "_view_module": "@jupyter-widgets/base",
            "_view_module_version": "1.2.0",
            "_view_name": "LayoutView",
            "align_content": null,
            "align_items": null,
            "align_self": null,
            "border": null,
            "bottom": null,
            "display": null,
            "flex": null,
            "flex_flow": null,
            "grid_area": null,
            "grid_auto_columns": null,
            "grid_auto_flow": null,
            "grid_auto_rows": null,
            "grid_column": null,
            "grid_gap": null,
            "grid_row": null,
            "grid_template_areas": null,
            "grid_template_columns": null,
            "grid_template_rows": null,
            "height": null,
            "justify_content": null,
            "justify_items": null,
            "left": null,
            "margin": null,
            "max_height": null,
            "max_width": null,
            "min_height": null,
            "min_width": null,
            "object_fit": null,
            "object_position": null,
            "order": null,
            "overflow": null,
            "overflow_x": null,
            "overflow_y": null,
            "padding": null,
            "right": null,
            "top": null,
            "visibility": null,
            "width": null
          }
        },
        "b0d0c7ab2f7c401582c7cf593a661cdd": {
          "model_module": "@jupyter-widgets/controls",
          "model_name": "DescriptionStyleModel",
          "model_module_version": "1.5.0",
          "state": {
            "_model_module": "@jupyter-widgets/controls",
            "_model_module_version": "1.5.0",
            "_model_name": "DescriptionStyleModel",
            "_view_count": null,
            "_view_module": "@jupyter-widgets/base",
            "_view_module_version": "1.2.0",
            "_view_name": "StyleView",
            "description_width": ""
          }
        },
        "ad3f1618341f424088d36be4127ba561": {
          "model_module": "@jupyter-widgets/base",
          "model_name": "LayoutModel",
          "model_module_version": "1.2.0",
          "state": {
            "_model_module": "@jupyter-widgets/base",
            "_model_module_version": "1.2.0",
            "_model_name": "LayoutModel",
            "_view_count": null,
            "_view_module": "@jupyter-widgets/base",
            "_view_module_version": "1.2.0",
            "_view_name": "LayoutView",
            "align_content": null,
            "align_items": null,
            "align_self": null,
            "border": null,
            "bottom": null,
            "display": null,
            "flex": null,
            "flex_flow": null,
            "grid_area": null,
            "grid_auto_columns": null,
            "grid_auto_flow": null,
            "grid_auto_rows": null,
            "grid_column": null,
            "grid_gap": null,
            "grid_row": null,
            "grid_template_areas": null,
            "grid_template_columns": null,
            "grid_template_rows": null,
            "height": null,
            "justify_content": null,
            "justify_items": null,
            "left": null,
            "margin": null,
            "max_height": null,
            "max_width": null,
            "min_height": null,
            "min_width": null,
            "object_fit": null,
            "object_position": null,
            "order": null,
            "overflow": null,
            "overflow_x": null,
            "overflow_y": null,
            "padding": null,
            "right": null,
            "top": null,
            "visibility": null,
            "width": "20px"
          }
        },
        "d8fa1420d3ec4016a29129adfd8488ba": {
          "model_module": "@jupyter-widgets/controls",
          "model_name": "ProgressStyleModel",
          "model_module_version": "1.5.0",
          "state": {
            "_model_module": "@jupyter-widgets/controls",
            "_model_module_version": "1.5.0",
            "_model_name": "ProgressStyleModel",
            "_view_count": null,
            "_view_module": "@jupyter-widgets/base",
            "_view_module_version": "1.2.0",
            "_view_name": "StyleView",
            "bar_color": null,
            "description_width": ""
          }
        },
        "ac1876e074a648bea38e889e68ab28a0": {
          "model_module": "@jupyter-widgets/base",
          "model_name": "LayoutModel",
          "model_module_version": "1.2.0",
          "state": {
            "_model_module": "@jupyter-widgets/base",
            "_model_module_version": "1.2.0",
            "_model_name": "LayoutModel",
            "_view_count": null,
            "_view_module": "@jupyter-widgets/base",
            "_view_module_version": "1.2.0",
            "_view_name": "LayoutView",
            "align_content": null,
            "align_items": null,
            "align_self": null,
            "border": null,
            "bottom": null,
            "display": null,
            "flex": null,
            "flex_flow": null,
            "grid_area": null,
            "grid_auto_columns": null,
            "grid_auto_flow": null,
            "grid_auto_rows": null,
            "grid_column": null,
            "grid_gap": null,
            "grid_row": null,
            "grid_template_areas": null,
            "grid_template_columns": null,
            "grid_template_rows": null,
            "height": null,
            "justify_content": null,
            "justify_items": null,
            "left": null,
            "margin": null,
            "max_height": null,
            "max_width": null,
            "min_height": null,
            "min_width": null,
            "object_fit": null,
            "object_position": null,
            "order": null,
            "overflow": null,
            "overflow_x": null,
            "overflow_y": null,
            "padding": null,
            "right": null,
            "top": null,
            "visibility": null,
            "width": null
          }
        },
        "240dcaf955684e97b57fcd288521cdf1": {
          "model_module": "@jupyter-widgets/controls",
          "model_name": "DescriptionStyleModel",
          "model_module_version": "1.5.0",
          "state": {
            "_model_module": "@jupyter-widgets/controls",
            "_model_module_version": "1.5.0",
            "_model_name": "DescriptionStyleModel",
            "_view_count": null,
            "_view_module": "@jupyter-widgets/base",
            "_view_module_version": "1.2.0",
            "_view_name": "StyleView",
            "description_width": ""
          }
        }
      }
    }
  },
  "cells": [
    {
      "cell_type": "markdown",
      "metadata": {
        "id": "view-in-github",
        "colab_type": "text"
      },
      "source": [
        "<a href=\"https://colab.research.google.com/github/MichelePrimavera/AutomatedFieldsPrediction/blob/main/AutomatedFieldsPrediction.ipynb\" target=\"_parent\"><img src=\"https://colab.research.google.com/assets/colab-badge.svg\" alt=\"Open In Colab\"/></a>"
      ]
    },
    {
      "cell_type": "markdown",
      "source": [
        "#Automated Prediction of Categorical Fields in Data Entry Forms by using Bayesian Networks"
      ],
      "metadata": {
        "id": "SXJblF64rMJq"
      }
    },
    {
      "cell_type": "markdown",
      "source": [
        "## *Introduction*"
      ],
      "metadata": {
        "id": "9pl6ooTFKhs_"
      }
    },
    {
      "cell_type": "markdown",
      "source": [
        "Users frequently engage with software systems via data entry forms, which are often time-consuming and prone to errors. While various techniques have been suggested to auto-complete or pre-fill form fields, these methods offer limited assistance for filling categorical fields, where users must select the correct value from a large set of options. In this article, I propose a method to predict field values based on historical data using Bayesian networks. Bayesian networks are probabilistic graphical models that represent a set of variables and their conditional dependencies through a directed acyclic graph. By leveraging these networks, we can efficiently capture the relationships between different fields and use this information to make informed predictions, thereby enhancing the form-filling process.\n",
        "\n",
        "The goal is to provide code that works on a simple configuration of a JSON that describes the structure of the form + the field relationships.\n",
        "\n",
        "Examples of application:\n",
        "* Helping the user to fill back office forms;\n",
        "* Test Automation;\n",
        "* Finding patterns.\n"
      ],
      "metadata": {
        "id": "cJAp4LBMyiT6"
      }
    },
    {
      "cell_type": "markdown",
      "source": [
        "## Small introduction to Bayesian Networks (BN)"
      ],
      "metadata": {
        "id": "xoYy0wItZm8B"
      }
    },
    {
      "cell_type": "markdown",
      "source": [
        "![image.png](data:image/png;base64,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)"
      ],
      "metadata": {
        "id": "TC6jpD7rZp1y"
      }
    },
    {
      "cell_type": "markdown",
      "source": [
        "The Bayesian network represents a set of variables and their conditional dependencies, as shown in the directed acyclic graph (DAG). The graph is composed of nodes, each of which represents a random variable, and the edges between them depict the conditional dependencies that exist between the variables. The first step in building a Bayesian network is to quantify these dependencies both in strength and nature and as the coefficients of the conditional probability distribution.\n",
        "\n",
        "Key components of a BN are:\n",
        "\n",
        "* Nodes. The nodes are random variables, which can be observable values, latent variables, unknown parameters, or hypotheses.\n",
        "* Edges:.A direct link from one node to another represents a conditional dependence. Such a connection from node A to node B shows that node B is conditionally dependent on node A.\n",
        "* Conditional Probability Tables (CPTs). A CPT table is linked to each node and demonstrates how the parent nodes have an influence on nodes. This table shows the likelihood of each possible node state, given the states of its parent nodes.\n",
        "\n",
        "Initially, the Bayesian network was used to confirm dependencies among discrete random variables. This is an algorithm that is expected to provide a practical solution even if there have been several missing observable variables. That is to say, the BN helps detect which discrete random unknown variables are likely to appear when some conditionally independent observable variables are missing.\n",
        "\n",
        "\n",
        "To learn more → https://towardsdatascience.com/introduction-to-bayesian-networks-81031eeed94e"
      ],
      "metadata": {
        "id": "UxpLW2dvZzIq"
      }
    },
    {
      "cell_type": "markdown",
      "source": [
        "## Code\n",
        "\n"
      ],
      "metadata": {
        "id": "y9sQ5CbK8kb2"
      }
    },
    {
      "cell_type": "markdown",
      "source": [
        "The requirements for the projects are:\n",
        "\n",
        "\n",
        "*   pgmpy - https://pgmpy.org/models/bayesiannetwork.html\n",
        "*   pandas - https://pandas.pydata.org/\n",
        "*   itertools - https://docs.python.org/3/library/itertools.html"
      ],
      "metadata": {
        "id": "WYYXyfeF8xx_"
      }
    },
    {
      "cell_type": "code",
      "source": [
        "!pip install pgmpy"
      ],
      "metadata": {
        "colab": {
          "base_uri": "https://localhost:8080/"
        },
        "id": "fJfM1qNqq-t5",
        "outputId": "037e4369-8b44-47c8-9120-a5cd81a40cd2"
      },
      "execution_count": null,
      "outputs": [
        {
          "output_type": "stream",
          "name": "stdout",
          "text": [
            "Collecting pgmpy\n",
            "  Downloading pgmpy-0.1.25-py3-none-any.whl (2.0 MB)\n",
            "\u001b[2K     \u001b[90m━━━━━━━━━━━━━━━━━━━━━━━━━━━━━━━━━━━━━━━━\u001b[0m \u001b[32m2.0/2.0 MB\u001b[0m \u001b[31m19.7 MB/s\u001b[0m eta \u001b[36m0:00:00\u001b[0m\n",
            "\u001b[?25hRequirement already satisfied: networkx in /usr/local/lib/python3.10/dist-packages (from pgmpy) (3.3)\n",
            "Requirement already satisfied: numpy in /usr/local/lib/python3.10/dist-packages (from pgmpy) (1.25.2)\n",
            "Requirement already satisfied: scipy in /usr/local/lib/python3.10/dist-packages (from pgmpy) (1.11.4)\n",
            "Requirement already satisfied: scikit-learn in /usr/local/lib/python3.10/dist-packages (from pgmpy) (1.2.2)\n",
            "Requirement already satisfied: pandas in /usr/local/lib/python3.10/dist-packages (from pgmpy) (2.0.3)\n",
            "Requirement already satisfied: pyparsing in /usr/local/lib/python3.10/dist-packages (from pgmpy) (3.1.2)\n",
            "Requirement already satisfied: torch in /usr/local/lib/python3.10/dist-packages (from pgmpy) (2.3.0+cu121)\n",
            "Requirement already satisfied: statsmodels in /usr/local/lib/python3.10/dist-packages (from pgmpy) (0.14.2)\n",
            "Requirement already satisfied: tqdm in /usr/local/lib/python3.10/dist-packages (from pgmpy) (4.66.4)\n",
            "Requirement already satisfied: joblib in /usr/local/lib/python3.10/dist-packages (from pgmpy) (1.4.2)\n",
            "Requirement already satisfied: opt-einsum in /usr/local/lib/python3.10/dist-packages (from pgmpy) (3.3.0)\n",
            "Requirement already satisfied: python-dateutil>=2.8.2 in /usr/local/lib/python3.10/dist-packages (from pandas->pgmpy) (2.8.2)\n",
            "Requirement already satisfied: pytz>=2020.1 in /usr/local/lib/python3.10/dist-packages (from pandas->pgmpy) (2023.4)\n",
            "Requirement already satisfied: tzdata>=2022.1 in /usr/local/lib/python3.10/dist-packages (from pandas->pgmpy) (2024.1)\n",
            "Requirement already satisfied: threadpoolctl>=2.0.0 in /usr/local/lib/python3.10/dist-packages (from scikit-learn->pgmpy) (3.5.0)\n",
            "Requirement already satisfied: patsy>=0.5.6 in /usr/local/lib/python3.10/dist-packages (from statsmodels->pgmpy) (0.5.6)\n",
            "Requirement already satisfied: packaging>=21.3 in /usr/local/lib/python3.10/dist-packages (from statsmodels->pgmpy) (24.1)\n",
            "Requirement already satisfied: filelock in /usr/local/lib/python3.10/dist-packages (from torch->pgmpy) (3.15.4)\n",
            "Requirement already satisfied: typing-extensions>=4.8.0 in /usr/local/lib/python3.10/dist-packages (from torch->pgmpy) (4.12.2)\n",
            "Requirement already satisfied: sympy in /usr/local/lib/python3.10/dist-packages (from torch->pgmpy) (1.13.0)\n",
            "Requirement already satisfied: jinja2 in /usr/local/lib/python3.10/dist-packages (from torch->pgmpy) (3.1.4)\n",
            "Requirement already satisfied: fsspec in /usr/local/lib/python3.10/dist-packages (from torch->pgmpy) (2023.6.0)\n",
            "Collecting nvidia-cuda-nvrtc-cu12==12.1.105 (from torch->pgmpy)\n",
            "  Using cached nvidia_cuda_nvrtc_cu12-12.1.105-py3-none-manylinux1_x86_64.whl (23.7 MB)\n",
            "Collecting nvidia-cuda-runtime-cu12==12.1.105 (from torch->pgmpy)\n",
            "  Using cached nvidia_cuda_runtime_cu12-12.1.105-py3-none-manylinux1_x86_64.whl (823 kB)\n",
            "Collecting nvidia-cuda-cupti-cu12==12.1.105 (from torch->pgmpy)\n",
            "  Using cached nvidia_cuda_cupti_cu12-12.1.105-py3-none-manylinux1_x86_64.whl (14.1 MB)\n",
            "Collecting nvidia-cudnn-cu12==8.9.2.26 (from torch->pgmpy)\n",
            "  Using cached nvidia_cudnn_cu12-8.9.2.26-py3-none-manylinux1_x86_64.whl (731.7 MB)\n",
            "Collecting nvidia-cublas-cu12==12.1.3.1 (from torch->pgmpy)\n",
            "  Using cached nvidia_cublas_cu12-12.1.3.1-py3-none-manylinux1_x86_64.whl (410.6 MB)\n",
            "Collecting nvidia-cufft-cu12==11.0.2.54 (from torch->pgmpy)\n",
            "  Using cached nvidia_cufft_cu12-11.0.2.54-py3-none-manylinux1_x86_64.whl (121.6 MB)\n",
            "Collecting nvidia-curand-cu12==10.3.2.106 (from torch->pgmpy)\n",
            "  Using cached nvidia_curand_cu12-10.3.2.106-py3-none-manylinux1_x86_64.whl (56.5 MB)\n",
            "Collecting nvidia-cusolver-cu12==11.4.5.107 (from torch->pgmpy)\n",
            "  Using cached nvidia_cusolver_cu12-11.4.5.107-py3-none-manylinux1_x86_64.whl (124.2 MB)\n",
            "Collecting nvidia-cusparse-cu12==12.1.0.106 (from torch->pgmpy)\n",
            "  Using cached nvidia_cusparse_cu12-12.1.0.106-py3-none-manylinux1_x86_64.whl (196.0 MB)\n",
            "Collecting nvidia-nccl-cu12==2.20.5 (from torch->pgmpy)\n",
            "  Using cached nvidia_nccl_cu12-2.20.5-py3-none-manylinux2014_x86_64.whl (176.2 MB)\n",
            "Collecting nvidia-nvtx-cu12==12.1.105 (from torch->pgmpy)\n",
            "  Using cached nvidia_nvtx_cu12-12.1.105-py3-none-manylinux1_x86_64.whl (99 kB)\n",
            "Requirement already satisfied: triton==2.3.0 in /usr/local/lib/python3.10/dist-packages (from torch->pgmpy) (2.3.0)\n",
            "Collecting nvidia-nvjitlink-cu12 (from nvidia-cusolver-cu12==11.4.5.107->torch->pgmpy)\n",
            "  Downloading nvidia_nvjitlink_cu12-12.5.82-py3-none-manylinux2014_x86_64.whl (21.3 MB)\n",
            "\u001b[2K     \u001b[90m━━━━━━━━━━━━━━━━━━━━━━━━━━━━━━━━━━━━━━━━\u001b[0m \u001b[32m21.3/21.3 MB\u001b[0m \u001b[31m50.2 MB/s\u001b[0m eta \u001b[36m0:00:00\u001b[0m\n",
            "\u001b[?25hRequirement already satisfied: six in /usr/local/lib/python3.10/dist-packages (from patsy>=0.5.6->statsmodels->pgmpy) (1.16.0)\n",
            "Requirement already satisfied: MarkupSafe>=2.0 in /usr/local/lib/python3.10/dist-packages (from jinja2->torch->pgmpy) (2.1.5)\n",
            "Requirement already satisfied: mpmath<1.4,>=1.1.0 in /usr/local/lib/python3.10/dist-packages (from sympy->torch->pgmpy) (1.3.0)\n",
            "Installing collected packages: nvidia-nvtx-cu12, nvidia-nvjitlink-cu12, nvidia-nccl-cu12, nvidia-curand-cu12, nvidia-cufft-cu12, nvidia-cuda-runtime-cu12, nvidia-cuda-nvrtc-cu12, nvidia-cuda-cupti-cu12, nvidia-cublas-cu12, nvidia-cusparse-cu12, nvidia-cudnn-cu12, nvidia-cusolver-cu12, pgmpy\n",
            "Successfully installed nvidia-cublas-cu12-12.1.3.1 nvidia-cuda-cupti-cu12-12.1.105 nvidia-cuda-nvrtc-cu12-12.1.105 nvidia-cuda-runtime-cu12-12.1.105 nvidia-cudnn-cu12-8.9.2.26 nvidia-cufft-cu12-11.0.2.54 nvidia-curand-cu12-10.3.2.106 nvidia-cusolver-cu12-11.4.5.107 nvidia-cusparse-cu12-12.1.0.106 nvidia-nccl-cu12-2.20.5 nvidia-nvjitlink-cu12-12.5.82 nvidia-nvtx-cu12-12.1.105 pgmpy-0.1.25\n"
          ]
        }
      ]
    },
    {
      "cell_type": "code",
      "execution_count": null,
      "metadata": {
        "id": "H9pRLgEeqmkK"
      },
      "outputs": [],
      "source": [
        "import pandas as pd\n",
        "from pgmpy.factors.discrete import TabularCPD\n",
        "from itertools import product\n",
        "from pgmpy.models import BayesianNetwork\n",
        "from pgmpy.inference import VariableElimination"
      ]
    },
    {
      "cell_type": "markdown",
      "source": [
        "Then, I define:\n",
        "\n",
        "\n",
        "* The user history. The prediction will be done from the historical data of a user;\n",
        "* States. A list of values for each field of the form;\n",
        "* Relationship. The fields can depend from each other.\n",
        "\n"
      ],
      "metadata": {
        "id": "nblQxnyd-FnK"
      }
    },
    {
      "cell_type": "code",
      "source": [
        "user_history = [\n",
        "    {\"category\": \"event\", \"type\": \"payment\", \"risk\": \"high\", \"range\": \"1000-10000\"},\n",
        "    {\"category\": \"event\", \"type\": \"payment\", \"risk\": \"high\", \"range\": \"1000-10000\"},\n",
        "    {\"category\": \"event\", \"type\": \"payment\", \"risk\": \"\", \"range\": \"\"},\n",
        "    {\"category\": \"event\", \"type\": \"investment\", \"risk\": \"low\", \"range\": \"0-1000\"},\n",
        "    {\"category\": \"event\", \"type\": \"investment\", \"risk\": \"low\", \"range\": \"0-1000\"},\n",
        "    {\"category\": \"medical\", \"type\": \"payment\", \"risk\": \"middle\", \"range\": \"1000-10000\"},\n",
        "    {\"category\": \"medical\", \"type\": \"payment\", \"risk\": \"middle\", \"range\": \"1000-10000\"},\n",
        "    {\"category\": \"medical\", \"type\": \"investment\", \"risk\": \"high\", \"range\": \"+10000\"},\n",
        "    {\"category\": \"medical\", \"type\": \"investment\", \"risk\": \"low\", \"range\": \"0-1000\"},\n",
        "    {\"category\": \"medical\", \"type\": \"investment\", \"risk\": \"low\", \"range\": \"0-1000\"},\n",
        "    {\"category\": \"medical\", \"type\": \"investment\", \"risk\": \"low\", \"range\": \"0-1000\"},\n",
        "    {\"category\": \"sport\", \"type\": \"payment\", \"risk\": \"low\", \"range\": \"0-1000\"},\n",
        "    {\"category\": \"sport\", \"type\": \"investment\", \"risk\": \"middle\", \"range\": \"1000-10000\"},\n",
        "    {\"category\": \"event\", \"type\": \"payment\", \"risk\": \"low\", \"range\": \"0-1000\"},\n",
        "    {\"category\": \"event\", \"type\": \"payment\", \"risk\": \"low\", \"range\": \"0-1000\"},\n",
        "    {\"category\": \"event\", \"type\": \"investment\", \"risk\": \"middle\", \"range\": \"1000-10000\"},\n",
        "    {\"category\": \"event\", \"type\": \"investment\", \"risk\": \"\", \"range\": \"\"},\n",
        "    {\"category\": \"medical\", \"type\": \"payment\", \"risk\": \"high\", \"range\": \"+10000\"},\n",
        "    {\"category\": \"medical\", \"type\": \"payment\", \"risk\": \"middle\", \"range\": \"1000-10000\"},\n",
        "    {\"category\": \"medical\", \"type\": \"investment\", \"risk\": \"low\", \"range\": \"0-1000\"},\n",
        "    {\"category\": \"sport\", \"type\": \"payment\", \"risk\": \"middle\", \"range\": \"1000-10000\"},\n",
        "    {\"category\": \"sport\", \"type\": \"investment\", \"risk\": \"high\", \"range\": \"+10000\"},\n",
        "    {\"category\": \"sport\", \"type\": \"investment\", \"risk\": \"high\", \"range\": \"0-1000\"}\n",
        "]\n",
        "df = pd.DataFrame(user_history)\n",
        "\n",
        "# Defining the values of each field (The \"states\" for CPD)\n",
        "states = {\n",
        "    \"category\": [\"\", \"event\", \"medical\", \"sport\"],\n",
        "    \"type\": [\"\", \"payment\", \"investment\"],\n",
        "    \"risk\": [\"\", \"high\", \"middle\", \"low\"],\n",
        "    \"range\": [\"\", \"0-1000\", \"1000-10000\", \"+10000\"]\n",
        "}\n",
        "\n",
        "# Defining the relationship between the fields\n",
        "relationships = {\n",
        "    \"type\": [\"category\"],\n",
        "    \"risk\": [\"type\"],\n",
        "    \"range\": [\"type\", \"risk\"]\n",
        "}"
      ],
      "metadata": {
        "id": "cLZ2lfynrm2j"
      },
      "execution_count": null,
      "outputs": []
    },
    {
      "cell_type": "markdown",
      "source": [
        "The main purpose of the \"calculate_cpd\" function is to calculate the conditional probability distribution for each set of the dependencies defined in the JSON. As we know, by summing the probabilities we should obtain 1. In addition, the function normalizes the frequencies and ensures that the calculated probabilities are consistent with the defined properties. In the case of data without parents, the function assigns the same probability to each variable.\n",
        "\n",
        "\n",
        "\n",
        "\n"
      ],
      "metadata": {
        "id": "RR7K7VdI-u6e"
      }
    },
    {
      "cell_type": "code",
      "source": [
        "def calculate_cpd(variable, parents, df, states):\n",
        "    \"\"\"\n",
        "    Calculate the Conditional Probability Distribution for a variable given its parents.\n",
        "    \"\"\"\n",
        "    # Initialize frequency dictionary\n",
        "    if not parents:\n",
        "        frequency_dict = {v: 0 for v in states[variable]}\n",
        "    else:\n",
        "        frequency_dict = {comb: {v: 0 for v in states[variable]} for comb in product(*[states[p] for p in parents])}\n",
        "\n",
        "    # Calculate frequencies\n",
        "    for _, row in df.iterrows():\n",
        "        if not parents:\n",
        "            frequency_dict[row[variable]] += 1\n",
        "        else:\n",
        "            parent_values = tuple(row[p] for p in parents)\n",
        "            frequency_dict[parent_values][row[variable]] += 1\n",
        "\n",
        "    # Normalize to get probabilities\n",
        "    if not parents:\n",
        "        total = sum(frequency_dict.values())\n",
        "        probabilities = {k: round(v / total, 2) if total > 0 else round(1/len(states[variable]), 2) for k, v in frequency_dict.items()}\n",
        "    else:\n",
        "        probabilities = {}\n",
        "        for parent_values, counts in frequency_dict.items():\n",
        "            total = sum(counts.values())\n",
        "            if total > 0:\n",
        "                probabilities[parent_values] = {k: round(v / total, 2) for k, v in counts.items()}\n",
        "            else:\n",
        "                probabilities[parent_values] = {k: round(1/len(states[variable]), 2) for k in states[variable]}\n",
        "\n",
        "    # Prepare the CPD values\n",
        "    if not parents:\n",
        "        cpd_values = [[probabilities[v]] for v in states[variable]]\n",
        "    else:\n",
        "        cpd_values = [[probabilities[parent_values][v] for parent_values in product(*[states[p] for p in parents])] for v in states[variable]]\n",
        "\n",
        "    # Create TabularCPD\n",
        "    cpd = TabularCPD(\n",
        "        variable=variable,\n",
        "        variable_card=len(states[variable]),\n",
        "        values=cpd_values,\n",
        "        evidence=parents if parents else None,\n",
        "        evidence_card=[len(states[p]) for p in parents] if parents else None\n",
        "    )\n",
        "\n",
        "    return cpd"
      ],
      "metadata": {
        "id": "MD9YDfMJ-s6t"
      },
      "execution_count": null,
      "outputs": []
    },
    {
      "cell_type": "markdown",
      "source": [
        "For our example, the CPD to calculate are:\n",
        "\n",
        "\n",
        "*   P(risk|type)\n",
        "*   P(range|type,risk)\n",
        "*   P(category)\n",
        "*   P(type|category)\n",
        "\n",
        "Based on relationship, this is how our newtork looks like:\n",
        "\n",
        "\n",
        "![sachs.png](data:image/png;base64,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)"
      ],
      "metadata": {
        "id": "FFBEcRZTJj-t"
      }
    },
    {
      "cell_type": "markdown",
      "source": [
        "Below is the code to automatically calculate CPDs for all variables. I then created the model and tested it to ensure that each node had a properly defined Conditional Probability Distribution (CPD) matching its parents. It also ensures that the probabilities in the CPDs for each variable equal to one, maintaining the properties of probability distributions."
      ],
      "metadata": {
        "id": "SWVXhEE7QKTZ"
      }
    },
    {
      "cell_type": "code",
      "source": [
        "# Calculate and print CPDs based on relationships\n",
        "cpds = {}\n",
        "\n",
        "# Automatically calculate CPDs for all variables\n",
        "variables = set(relationships.keys()).union(*relationships.values())\n",
        "for variable in variables:\n",
        "    parents = relationships.get(variable, [])\n",
        "    cpd = calculate_cpd(variable, parents, df, states)\n",
        "    cpds[variable] = cpd\n",
        "    print(f\"CPD for {variable} given {parents}:\\n{cpd}\\n\")\n",
        "\n",
        "# Automatically define the structure of the Bayesian Network based on relationships\n",
        "edges = [(parent, child) for child, parents in relationships.items() for parent in parents]\n",
        "print(\"Edges:\", edges)\n",
        "\n",
        "# Define the Bayesian Network\n",
        "model = BayesianNetwork(edges)\n",
        "\n",
        "# Add CPDs to the network\n",
        "model.add_cpds(*cpds.values())\n",
        "\n",
        "# Check if the model is valid\n",
        "assert model.check_model()"
      ],
      "metadata": {
        "colab": {
          "base_uri": "https://localhost:8080/"
        },
        "id": "k3n-R24e_76Y",
        "outputId": "5a9b7044-3339-4c52-dc76-0b3d5185862f"
      },
      "execution_count": null,
      "outputs": [
        {
          "output_type": "stream",
          "name": "stdout",
          "text": [
            "CPD for category given []:\n",
            "+-------------+------+\n",
            "| category(0) | 0    |\n",
            "+-------------+------+\n",
            "| category(1) | 0.39 |\n",
            "+-------------+------+\n",
            "| category(2) | 0.39 |\n",
            "+-------------+------+\n",
            "| category(3) | 0.22 |\n",
            "+-------------+------+\n",
            "\n",
            "CPD for type given ['category']:\n",
            "+----------+-------------+-------------+-------------+-------------+\n",
            "| category | category(0) | category(1) | category(2) | category(3) |\n",
            "+----------+-------------+-------------+-------------+-------------+\n",
            "| type(0)  | 0.33        | 0.0         | 0.0         | 0.0         |\n",
            "+----------+-------------+-------------+-------------+-------------+\n",
            "| type(1)  | 0.33        | 0.56        | 0.44        | 0.4         |\n",
            "+----------+-------------+-------------+-------------+-------------+\n",
            "| type(2)  | 0.33        | 0.44        | 0.56        | 0.6         |\n",
            "+----------+-------------+-------------+-------------+-------------+\n",
            "\n",
            "CPD for range given ['type', 'risk']:\n",
            "+----------+---------+---------+---------+-----+---------+---------+---------+---------+\n",
            "| type     | type(0) | type(0) | type(0) | ... | type(2) | type(2) | type(2) | type(2) |\n",
            "+----------+---------+---------+---------+-----+---------+---------+---------+---------+\n",
            "| risk     | risk(0) | risk(1) | risk(2) | ... | risk(0) | risk(1) | risk(2) | risk(3) |\n",
            "+----------+---------+---------+---------+-----+---------+---------+---------+---------+\n",
            "| range(0) | 0.25    | 0.25    | 0.25    | ... | 1.0     | 0.0     | 0.0     | 0.0     |\n",
            "+----------+---------+---------+---------+-----+---------+---------+---------+---------+\n",
            "| range(1) | 0.25    | 0.25    | 0.25    | ... | 0.0     | 0.33    | 0.0     | 1.0     |\n",
            "+----------+---------+---------+---------+-----+---------+---------+---------+---------+\n",
            "| range(2) | 0.25    | 0.25    | 0.25    | ... | 0.0     | 0.0     | 1.0     | 0.0     |\n",
            "+----------+---------+---------+---------+-----+---------+---------+---------+---------+\n",
            "| range(3) | 0.25    | 0.25    | 0.25    | ... | 0.0     | 0.67    | 0.0     | 0.0     |\n",
            "+----------+---------+---------+---------+-----+---------+---------+---------+---------+\n",
            "\n",
            "CPD for risk given ['type']:\n",
            "+---------+---------+---------+---------+\n",
            "| type    | type(0) | type(1) | type(2) |\n",
            "+---------+---------+---------+---------+\n",
            "| risk(0) | 0.25    | 0.09    | 0.08    |\n",
            "+---------+---------+---------+---------+\n",
            "| risk(1) | 0.25    | 0.27    | 0.25    |\n",
            "+---------+---------+---------+---------+\n",
            "| risk(2) | 0.25    | 0.36    | 0.17    |\n",
            "+---------+---------+---------+---------+\n",
            "| risk(3) | 0.25    | 0.27    | 0.5     |\n",
            "+---------+---------+---------+---------+\n",
            "\n",
            "Edges: [('category', 'type'), ('type', 'risk'), ('type', 'range'), ('risk', 'range')]\n"
          ]
        }
      ]
    },
    {
      "cell_type": "markdown",
      "source": [
        "Finally, the model can be tested by giving a user input and by defining the variables we want to predict:"
      ],
      "metadata": {
        "id": "VdaH6nbMQyEU"
      }
    },
    {
      "cell_type": "code",
      "source": [
        "inference = VariableElimination(model)\n",
        "\n",
        "# Function to perform inference based on user input\n",
        "def perform_inference(evidence, variables):\n",
        "    query = inference.map_query(variables=variables, evidence=evidence)\n",
        "    return query\n",
        "\n",
        "# Example: User input to infer node 'C' given A='test' and B='cipolla'\n",
        "user_input = {'category': 2}\n",
        "result = perform_inference(user_input, ['type'])\n",
        "print(\"Inference result based on user input:\", result)"
      ],
      "metadata": {
        "colab": {
          "base_uri": "https://localhost:8080/",
          "height": 98,
          "referenced_widgets": [
            "595f4095e80d493eba1fd2c209c78b3b",
            "25fe086c4b844c0296b2686f3226288f",
            "baf6d6207bf1420eb4e0b140670000b8",
            "a0cdb2f094a14e058b152fe3e29dcea2",
            "bb15e19cff9a45a2a2594a545e6b3e0c",
            "b08bb86861104e2db2d67bbd205787c6",
            "62c9ba484b3144c7a17f809684bbe2dc",
            "44a3df3326a9483cb9f94bf073f33687",
            "32f2e4cca2514840bc95adc16d7d34df",
            "acc42644ab8f46e992411fe688774495",
            "a4bc69f9044f4f3f8dcd4907185bcd5d",
            "82930ac156bf4bb09c8d1096c47ee19c",
            "9756c7d26499425881509367b8b72e79",
            "31a4e2318d4446cc8acc53d5d7d18bd1",
            "f38ea871279542f0ae5031df92eaa4da",
            "d5e4fd8e5c164aef9c4ca82ca0ad6861",
            "2ef756216bc64bf2b2c87f82abe0acdf",
            "17f4badf24094cc7a66ae25347982f30",
            "d24c297b97c14653a0a2439964c1fe77",
            "10d08a496ece47489e1db217b2224aa9",
            "f0778a4b74e943f6880863404b692ce9",
            "bfe9f0305e054e24bd36678df55afa31"
          ]
        },
        "id": "Cak_d8bRG78I",
        "outputId": "c95e2e85-495a-402e-b7fa-6b54c51c25d0"
      },
      "execution_count": null,
      "outputs": [
        {
          "output_type": "display_data",
          "data": {
            "text/plain": [
              "0it [00:00, ?it/s]"
            ],
            "application/vnd.jupyter.widget-view+json": {
              "version_major": 2,
              "version_minor": 0,
              "model_id": "595f4095e80d493eba1fd2c209c78b3b"
            }
          },
          "metadata": {}
        },
        {
          "output_type": "display_data",
          "data": {
            "text/plain": [
              "0it [00:00, ?it/s]"
            ],
            "application/vnd.jupyter.widget-view+json": {
              "version_major": 2,
              "version_minor": 0,
              "model_id": "82930ac156bf4bb09c8d1096c47ee19c"
            }
          },
          "metadata": {}
        },
        {
          "output_type": "stream",
          "name": "stdout",
          "text": [
            "Inference result based on user input: {'type': 2}\n"
          ]
        }
      ]
    },
    {
      "cell_type": "markdown",
      "source": [
        "The result make sense due to the CPD:"
      ],
      "metadata": {
        "id": "yg1v-L60aXsN"
      }
    },
    {
      "cell_type": "markdown",
      "source": [
        "![image.png](data:image/png;base64,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)"
      ],
      "metadata": {
        "id": "ErRQI_uuaYns"
      }
    },
    {
      "cell_type": "markdown",
      "source": [
        "We can also test more complex case like:"
      ],
      "metadata": {
        "id": "cj-fppvhYBP4"
      }
    },
    {
      "cell_type": "code",
      "source": [
        "user_input = {'category': 2, \"type\": 1}\n",
        "result = perform_inference(user_input, ['risk', \"range\"])\n",
        "print(\"Inference result based on user input:\", result)"
      ],
      "metadata": {
        "colab": {
          "base_uri": "https://localhost:8080/",
          "height": 98,
          "referenced_widgets": [
            "57c4b1e1485d4e73a4f4e6b8c2a412b3",
            "64fb4d542fbf4368842ebd1a06d19cd6",
            "913faf15fcfc4145a0b1562023104aa0",
            "18928b86661c43dca20ff18b6957493f",
            "1c35e727cb3142a087703940b4a11c31",
            "0ace5ca5f6574e32af87cfc51734ce59",
            "620dc983b76b404e8ab3e1a7d9d56f9c",
            "52b6aaf1a27e487a831d672f6a0c20dd",
            "3f0b03eaad1d452e987dfb2e5fd8c6ac",
            "bd2db36725de4c0a9b2c2a03a0e65d3d",
            "b4059fd3d5bd4472802bba5a89972456",
            "4792c7ed168c470a8ebb8e3783e40199",
            "b2ffc3f3573247cb8135935f5ecfacb4",
            "31678fd669594ba1a139524f9d3126a0",
            "d8cbe412ceff4790a6932df907ad68c7",
            "2916b1d0eaf542d2b3224ff16c24d47b",
            "e19ad848350f45b68df73978d21b5702",
            "b0d0c7ab2f7c401582c7cf593a661cdd",
            "ad3f1618341f424088d36be4127ba561",
            "d8fa1420d3ec4016a29129adfd8488ba",
            "ac1876e074a648bea38e889e68ab28a0",
            "240dcaf955684e97b57fcd288521cdf1"
          ]
        },
        "id": "0uovU3QvYDMv",
        "outputId": "5e3e8a7b-cdd3-4030-d77f-ab0cf9717909"
      },
      "execution_count": null,
      "outputs": [
        {
          "output_type": "display_data",
          "data": {
            "text/plain": [
              "0it [00:00, ?it/s]"
            ],
            "application/vnd.jupyter.widget-view+json": {
              "version_major": 2,
              "version_minor": 0,
              "model_id": "57c4b1e1485d4e73a4f4e6b8c2a412b3"
            }
          },
          "metadata": {}
        },
        {
          "output_type": "display_data",
          "data": {
            "text/plain": [
              "0it [00:00, ?it/s]"
            ],
            "application/vnd.jupyter.widget-view+json": {
              "version_major": 2,
              "version_minor": 0,
              "model_id": "4792c7ed168c470a8ebb8e3783e40199"
            }
          },
          "metadata": {}
        },
        {
          "output_type": "stream",
          "name": "stdout",
          "text": [
            "Inference result based on user input: {'range': 2, 'risk': 2}\n"
          ]
        }
      ]
    },
    {
      "cell_type": "markdown",
      "source": [
        "## Wrapping up\n",
        "The approach utilizes Bayesian Networks to learn field dependencies from historical input instances. The code provided necessitates only a few simple JSON to work."
      ],
      "metadata": {
        "id": "gmSmxdt7Q-Z9"
      }
    }
  ]
}